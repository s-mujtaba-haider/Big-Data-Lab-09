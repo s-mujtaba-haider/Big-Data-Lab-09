{
  "nbformat": 4,
  "nbformat_minor": 0,
  "metadata": {
    "colab": {
      "provenance": []
    },
    "kernelspec": {
      "name": "python3",
      "display_name": "Python 3"
    },
    "language_info": {
      "name": "python"
    }
  },
  "cells": [
    {
      "cell_type": "code",
      "execution_count": null,
      "metadata": {
        "colab": {
          "base_uri": "https://localhost:8080/"
        },
        "id": "MVtvGqdkJgXx",
        "outputId": "37f2477f-4d30-4ef8-e28a-e3f4b2c61916"
      },
      "outputs": [
        {
          "output_type": "stream",
          "name": "stdout",
          "text": [
            "Looking in indexes: https://pypi.org/simple, https://us-python.pkg.dev/colab-wheels/public/simple/\n",
            "Collecting mrjob\n",
            "  Downloading mrjob-0.7.4-py2.py3-none-any.whl (439 kB)\n",
            "\u001b[2K     \u001b[90m━━━━━━━━━━━━━━━━━━━━━━━━━━━━━━━━━━━━━━━\u001b[0m \u001b[32m439.6/439.6 kB\u001b[0m \u001b[31m8.1 MB/s\u001b[0m eta \u001b[36m0:00:00\u001b[0m\n",
            "\u001b[?25hRequirement already satisfied: PyYAML>=3.10 in /usr/local/lib/python3.9/dist-packages (from mrjob) (6.0)\n",
            "Installing collected packages: mrjob\n",
            "Successfully installed mrjob-0.7.4\n"
          ]
        }
      ],
      "source": [
        "pip install mrjob"
      ]
    },
    {
      "cell_type": "code",
      "source": [
        "# Q - 1\n",
        "%%file quiz.py\n",
        "from mrjob.job import MRJob\n",
        "class TotalActivities(MRJob):\n",
        "  def mapper(self,_,line):\n",
        "    id,actype,time = line.split(',')\n",
        "    year = time.split()[0]\n",
        "    yield year,1\n",
        "  def reducer(self,key,value):\n",
        "    yield \"Total Activities : \", sum(value)\n",
        "\n",
        "if __name__ == '__main__':\n",
        "  TotalActivities.run()"
      ],
      "metadata": {
        "colab": {
          "base_uri": "https://localhost:8080/"
        },
        "id": "uUDyrq4aMhoJ",
        "outputId": "f339c01f-385f-4b82-af38-c5907141f56f"
      },
      "execution_count": null,
      "outputs": [
        {
          "output_type": "stream",
          "name": "stdout",
          "text": [
            "Overwriting quiz.py\n"
          ]
        }
      ]
    },
    {
      "cell_type": "code",
      "source": [
        "! python \"quiz.py\" \"logFile.txt\""
      ],
      "metadata": {
        "colab": {
          "base_uri": "https://localhost:8080/"
        },
        "id": "KltoqC7lMhuO",
        "outputId": "6a2c84d6-9ce4-4b57-e115-6117043a70bd"
      },
      "execution_count": null,
      "outputs": [
        {
          "output_type": "stream",
          "name": "stdout",
          "text": [
            "No configs found; falling back on auto-configuration\n",
            "No configs specified for inline runner\n",
            "Creating temp directory /tmp/quiz.root.20230419.064333.987695\n",
            "Running step 1 of 1...\n",
            "job output is in /tmp/quiz.root.20230419.064333.987695/output\n",
            "Streaming final output from /tmp/quiz.root.20230419.064333.987695/output...\n",
            "\"Total Activities : \"\t12\n",
            "Removing temp directory /tmp/quiz.root.20230419.064333.987695...\n"
          ]
        }
      ]
    },
    {
      "cell_type": "code",
      "source": [
        "# Q - 2\n",
        "%%file quiz.py\n",
        "from mrjob.job import MRJob\n",
        "class Frequency(MRJob):\n",
        "  def mapper(self,_,line):\n",
        "    id,actype,time = line.split(',')\n",
        "    yield actype,1\n",
        "  def reducer(self,key,value):\n",
        "    yield key, sum(value)\n",
        "\n",
        "if __name__ == '__main__':\n",
        "  Frequency.run()"
      ],
      "metadata": {
        "colab": {
          "base_uri": "https://localhost:8080/"
        },
        "id": "UVW9ysWeJxPl",
        "outputId": "e0ac582a-f8bc-4b9d-9ab3-b312d7b426dc"
      },
      "execution_count": null,
      "outputs": [
        {
          "output_type": "stream",
          "name": "stdout",
          "text": [
            "Overwriting quiz.py\n"
          ]
        }
      ]
    },
    {
      "cell_type": "code",
      "source": [
        "! python \"quiz.py\" \"logFile.txt\""
      ],
      "metadata": {
        "colab": {
          "base_uri": "https://localhost:8080/"
        },
        "id": "4xC58vZMKHKK",
        "outputId": "536827f4-b83e-4817-f584-117bc532054f"
      },
      "execution_count": null,
      "outputs": [
        {
          "output_type": "stream",
          "name": "stdout",
          "text": [
            "No configs found; falling back on auto-configuration\n",
            "No configs specified for inline runner\n",
            "Creating temp directory /tmp/quiz.root.20230419.063939.020925\n",
            "Running step 1 of 1...\n",
            "job output is in /tmp/quiz.root.20230419.063939.020925/output\n",
            "Streaming final output from /tmp/quiz.root.20230419.063939.020925/output...\n",
            "\"Logout\"\t3\n",
            "\"Login\"\t4\n",
            "\"Click\"\t5\n",
            "Removing temp directory /tmp/quiz.root.20230419.063939.020925...\n"
          ]
        }
      ]
    },
    {
      "cell_type": "code",
      "source": [
        "# Q - 3\n",
        "%%file quiz.py\n",
        "from mrjob.job import MRJob\n",
        "class Count(MRJob):\n",
        "  def mapper(self,_,line):\n",
        "    id,actype,time = line.split(',')\n",
        "    yield id,1\n",
        "  def reducer(self,key,value):\n",
        "    yield key, sum(value)\n",
        "\n",
        "if __name__ == '__main__':\n",
        "  Count.run()"
      ],
      "metadata": {
        "colab": {
          "base_uri": "https://localhost:8080/"
        },
        "id": "dFVHdrsBLJ92",
        "outputId": "1bda65b0-c2a3-4731-ed55-a514e13d3e76"
      },
      "execution_count": null,
      "outputs": [
        {
          "output_type": "stream",
          "name": "stdout",
          "text": [
            "Overwriting quiz.py\n"
          ]
        }
      ]
    },
    {
      "cell_type": "code",
      "source": [
        "! python \"quiz.py\" \"logFile.txt\""
      ],
      "metadata": {
        "colab": {
          "base_uri": "https://localhost:8080/"
        },
        "id": "ApBq_jtOLUQ6",
        "outputId": "71d52dfc-a0f3-4d4c-f7c4-acac4f3b9241"
      },
      "execution_count": null,
      "outputs": [
        {
          "output_type": "stream",
          "name": "stdout",
          "text": [
            "No configs found; falling back on auto-configuration\n",
            "No configs specified for inline runner\n",
            "Creating temp directory /tmp/quiz.root.20230419.063930.767810\n",
            "Running step 1 of 1...\n",
            "job output is in /tmp/quiz.root.20230419.063930.767810/output\n",
            "Streaming final output from /tmp/quiz.root.20230419.063930.767810/output...\n",
            "\"104\"\t1\n",
            "\"105\"\t3\n",
            "\"103\"\t3\n",
            "\"101\"\t2\n",
            "\"102\"\t3\n",
            "Removing temp directory /tmp/quiz.root.20230419.063930.767810...\n"
          ]
        }
      ]
    }
  ]
}